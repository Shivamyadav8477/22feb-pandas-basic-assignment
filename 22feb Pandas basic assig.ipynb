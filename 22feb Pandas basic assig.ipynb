{
 "cells": [
  {
   "cell_type": "code",
   "execution_count": null,
   "id": "9864aa98-45dd-4f10-88db-e91810b250c1",
   "metadata": {},
   "outputs": [],
   "source": [
    "Q1. Create a Pandas Series that contains the following data: 4, 8, 15, 16, 23, and 42. Then, print the series."
   ]
  },
  {
   "cell_type": "code",
   "execution_count": null,
   "id": "cc119082-a3ee-4768-90cc-3195d0c08bd8",
   "metadata": {},
   "outputs": [],
   "source": [
    "Certainly! You can create a Pandas Series with the given data and print it as follows:"
   ]
  },
  {
   "cell_type": "code",
   "execution_count": 1,
   "id": "1a302948-9314-4d9c-85b9-188869c5a15d",
   "metadata": {},
   "outputs": [
    {
     "name": "stdout",
     "output_type": "stream",
     "text": [
      "0     4\n",
      "1     8\n",
      "2    15\n",
      "3    16\n",
      "4    23\n",
      "5    42\n",
      "dtype: int64\n"
     ]
    }
   ],
   "source": [
    "import pandas as pd\n",
    "\n",
    "# Create a Pandas Series\n",
    "data = [4, 8, 15, 16, 23, 42]\n",
    "series = pd.Series(data)\n",
    "\n",
    "# Print the Series\n",
    "print(series)\n"
   ]
  },
  {
   "cell_type": "code",
   "execution_count": null,
   "id": "40ca4ad4-36d5-4953-b0a5-84ab35a92902",
   "metadata": {},
   "outputs": [],
   "source": [
    "Q2. Create a variable of list type containing 10 elements in it, and apply pandas.Series function on the\n",
    "variable print it."
   ]
  },
  {
   "cell_type": "code",
   "execution_count": null,
   "id": "6306ca33-18db-4a02-bfea-a02e8500fcdf",
   "metadata": {},
   "outputs": [],
   "source": [
    "Certainly! You can create a list with 10 elements and then convert it into a Pandas Series using the pd.Series() function. Here's an example:"
   ]
  },
  {
   "cell_type": "code",
   "execution_count": 2,
   "id": "fec87f15-aa25-4bb9-b12f-292801eda5c4",
   "metadata": {},
   "outputs": [
    {
     "name": "stdout",
     "output_type": "stream",
     "text": [
      "0     1\n",
      "1     2\n",
      "2     3\n",
      "3     4\n",
      "4     5\n",
      "5     6\n",
      "6     7\n",
      "7     8\n",
      "8     9\n",
      "9    10\n",
      "dtype: int64\n"
     ]
    }
   ],
   "source": [
    "import pandas as pd\n",
    "\n",
    "# Create a list with 10 elements\n",
    "my_list = [1, 2, 3, 4, 5, 6, 7, 8, 9, 10]\n",
    "\n",
    "# Convert the list into a Pandas Series\n",
    "my_series = pd.Series(my_list)\n",
    "\n",
    "# Print the Series\n",
    "print(my_series)\n"
   ]
  },
  {
   "cell_type": "code",
   "execution_count": null,
   "id": "e3526184-023f-486f-95f7-48425fa66cc9",
   "metadata": {},
   "outputs": [],
   "source": [
    "Q4. What is ‘DataFrame’ in pandas and how is it different from pandas.series? Explain with an example."
   ]
  },
  {
   "cell_type": "code",
   "execution_count": null,
   "id": "fac6a642-c915-437e-8e2f-4b3d7698c7ff",
   "metadata": {},
   "outputs": [],
   "source": [
    "n Pandas, a DataFrame is a two-dimensional, size-mutable, and tabular data structure. It can be thought of as a collection of Pandas Series objects, where each Series represents a column of the DataFrame. In essence, a DataFrame is a table-like structure with rows and columns, and it is one of the most commonly used data structures in data analysis and manipulation.\n",
    "\n",
    "Here are some key characteristics of a DataFrame:\n",
    "\n",
    "Two-Dimensional: DataFrames have rows and columns, making them two-dimensional data structures.\n",
    "\n",
    "Size-Mutable: You can add or remove rows and columns from a DataFrame after it's created.\n",
    "\n",
    "Heterogeneous Data Types: Each column in a DataFrame can have a different data type (e.g., integers, floats, strings).\n",
    "\n",
    "Labeled Axes: Both rows and columns in a DataFrame can have labels (index and column names) for easy data selection and manipulation.\n",
    "\n",
    "Flexibility: DataFrames support various data operations, including filtering, aggregation, merging, and reshaping.\n",
    "\n",
    "Now, let's compare a Pandas Series and a DataFrame with an "
   ]
  },
  {
   "cell_type": "code",
   "execution_count": 3,
   "id": "b5325464-0ceb-41e3-a50b-9a4a9044e29a",
   "metadata": {},
   "outputs": [
    {
     "name": "stdout",
     "output_type": "stream",
     "text": [
      "Pandas Series:\n",
      "0    1\n",
      "1    2\n",
      "2    3\n",
      "3    4\n",
      "4    5\n",
      "Name: Numbers, dtype: int64\n",
      "\n",
      "Pandas DataFrame:\n",
      "      Name  Age\n",
      "0    Alice   25\n",
      "1      Bob   30\n",
      "2  Charlie   35\n",
      "3    David   28\n",
      "4      Eve   22\n"
     ]
    }
   ],
   "source": [
    "import pandas as pd\n",
    "\n",
    "# Create a Pandas Series\n",
    "series_data = pd.Series([1, 2, 3, 4, 5], name='Numbers')\n",
    "\n",
    "# Create a DataFrame\n",
    "df_data = pd.DataFrame({'Name': ['Alice', 'Bob', 'Charlie', 'David', 'Eve'],\n",
    "                         'Age': [25, 30, 35, 28, 22]})\n",
    "\n",
    "# Display the Series\n",
    "print(\"Pandas Series:\")\n",
    "print(series_data)\n",
    "\n",
    "# Display the DataFrame\n",
    "print(\"\\nPandas DataFrame:\")\n",
    "print(df_data)\n"
   ]
  },
  {
   "cell_type": "code",
   "execution_count": null,
   "id": "41c7a01f-157a-46f5-b8f8-838b1e237c53",
   "metadata": {},
   "outputs": [],
   "source": [
    "In this example:\n",
    "\n",
    "series_data is a Pandas Series that contains a simple list of numbers with an associated name (\"Numbers\"). It has a one-dimensional structure with a default index starting from 0.\n",
    "\n",
    "df_data is a Pandas DataFrame that contains two columns: \"Name\" and \"Age.\" Each column is represented as a Pandas Series, and the DataFrame itself is two-dimensional with labeled axes (index and column names).\n",
    "\n",
    "Here are some key differences:\n",
    "\n",
    "Dimensionality: A Series is one-dimensional, whereas a DataFrame is two-dimensional.\n",
    "\n",
    "Tabular Structure: A DataFrame represents tabular data with rows and columns, while a Series is essentially a single column of data.\n",
    "\n",
    "Naming: A DataFrame allows you to assign names to both rows (index) and columns. In contrast, a Series can have a name assigned to it, but it primarily represents a single column of data.\n",
    "\n",
    "Multiple Columns: A DataFrame can contain multiple columns of data, making it suitable for handling structured datasets with various attributes.\n",
    "\n",
    "In summary, while both Pandas Series and DataFrames are fundamental data structures in Pandas, DataFrames are more versatile and suitable for working with structured datasets, such as those commonly encountered in data analysis and data science tasks. Series are typically used for one-dimensional data or when you need to extract a single column from a DataFrame.\n",
    "\n",
    "\n",
    "\n",
    "\n"
   ]
  },
  {
   "cell_type": "code",
   "execution_count": null,
   "id": "26f81724-de80-496d-bf39-bd37fd8289e7",
   "metadata": {},
   "outputs": [],
   "source": [
    "Q5. What are some common functions you can use to manipulate data in a Pandas DataFrame? Can\n",
    "you give an example of when you might use one of these functions?"
   ]
  },
  {
   "cell_type": "code",
   "execution_count": null,
   "id": "82d84451-8b97-477d-8212-f5d1bbf53150",
   "metadata": {},
   "outputs": [],
   "source": [
    "Pandas provides a wide range of functions and methods for manipulating data in a DataFrame. Here are some common functions and operations you can perform on a Pandas DataFrame, along with examples:\n",
    "\n",
    "1. **Filtering Data**:\n",
    "   - `df[df['column'] > value]`: You can filter rows based on a condition in a specific column.\n",
    "   - Example: Filter rows where the \"Age\" column is greater than 30.\n",
    "\n",
    "2. **Selecting Columns**:\n",
    "   - `df['column_name']` or `df[['col1', 'col2']]`: You can select one or multiple columns.\n",
    "   - Example: Select the \"Name\" column.\n",
    "\n",
    "3. **Sorting Data**:\n",
    "   - `df.sort_values(by='column_name')`: Sort the DataFrame by a specific column.\n",
    "   - Example: Sort the DataFrame by the \"Age\" column in ascending order.\n",
    "\n",
    "4. **Grouping and Aggregation**:\n",
    "   - `df.groupby('group_column')['aggregation_column'].agg('aggregation_function')`: Group data by a column and perform aggregations.\n",
    "   - Example: Group by \"Category\" and calculate the mean of \"Price\" for each category.\n",
    "\n",
    "5. **Merging and Joining DataFrames**:\n",
    "   - `pd.concat([df1, df2])` or `df1.merge(df2, on='key_column')`: Combine data from multiple DataFrames.\n",
    "   - Example: Merge two DataFrames based on a common \"ID\" column.\n",
    "\n",
    "6. **Pivoting and Reshaping**:\n",
    "   - `df.pivot(index='row_index', columns='column_index', values='value_column')`: Reshape data from long to wide format.\n",
    "   - Example: Pivot a DataFrame to convert \"Year-Month\" data into a matrix.\n",
    "\n",
    "7. **Handling Missing Data**:\n",
    "   - `df.isna()`, `df.dropna()`, `df.fillna(value)`: Identify, drop, or fill missing values.\n",
    "   - Example: Replace missing values in the \"Age\" column with the mean age.\n",
    "\n",
    "8. **Adding and Deleting Columns**:\n",
    "   - `df['new_column'] = value` or `del df['column_name']`: Add or delete columns.\n",
    "   - Example: Add a new column \"Total\" that sums two existing columns.\n",
    "\n",
    "9. **Applying Functions**:\n",
    "   - `df.apply(function)`: Apply a custom function to each row or column.\n",
    "   - Example: Apply a function to calculate the age category for each person based on their age.\n",
    "\n",
    "10. **Dropping Duplicates**:\n",
    "    - `df.drop_duplicates(subset='column_name')`: Remove duplicate rows.\n",
    "    - Example: Remove duplicate records based on the \"ID\" column.\n",
    "\n",
    "11. **String Operations**:\n",
    "    - `df['column'].str.method()`: Perform string operations on text columns.\n",
    "    - Example: Convert text in the \"Name\" column to uppercase.\n",
    "\n",
    "12. **DateTime Operations**:\n",
    "    - `pd.to_datetime(df['date_column'])`: Convert a string column to a datetime object.\n",
    "    - Example: Convert a \"Date\" column to datetime for time-based analysis.\n",
    "\n",
    "13. **Applying Conditional Logic**:\n",
    "    - `np.where(condition, value_if_true, value_if_false)`: Apply conditional logic to create a new column.\n",
    "    - Example: Create a new column \"Status\" based on a condition in the \"Score\" column.\n",
    "\n",
    "These are just some of the many functions and operations available in Pandas for data manipulation. The choice of function depends on the specific data manipulation task you need to perform in your analysis or data preprocessing workflow."
   ]
  },
  {
   "cell_type": "code",
   "execution_count": null,
   "id": "7e4f72f0-3e2d-45c2-893b-c176dad8e67c",
   "metadata": {},
   "outputs": [],
   "source": [
    "Q6. Which of the following is mutable in nature Series, DataFrame, Panel?"
   ]
  },
  {
   "cell_type": "code",
   "execution_count": null,
   "id": "5e87e205-83cb-4918-bd84-9a611a86f412",
   "metadata": {},
   "outputs": [],
   "source": [
    "In Pandas:\n",
    "\n",
    "1. **Series**: A Pandas Series is mutable in the sense that you can modify the values of existing elements within the Series. For example, you can change the value of a specific element by assigning a new value to it using its index. However, you cannot change the length or data type of a Series once it's created.\n",
    "\n",
    "2. **DataFrame**: A Pandas DataFrame is mutable as well. You can modify the values of existing cells, add or remove columns and rows, and perform various operations that change the structure or content of the DataFrame.\n",
    "\n",
    "3. **Panel**: Pandas used to have a data structure called Panel, which was designed to handle three-dimensional data. However, starting from Pandas version 0.25.0 (July 2019), Panels have been deprecated, and users are encouraged to use DataFrames for handling multi-dimensional data instead. Therefore, Panels are considered obsolete, and you should use DataFrames or other appropriate data structures for your data manipulation needs.\n",
    "\n",
    "In summary, both Series and DataFrames are mutable in nature, but Panels have been deprecated and should not be used for new projects."
   ]
  },
  {
   "cell_type": "code",
   "execution_count": null,
   "id": "3cc4da6d-56f9-441d-8ba0-fae744358e1e",
   "metadata": {},
   "outputs": [],
   "source": [
    "Q7. Create a DataFrame using multiple Series. Explain with an example."
   ]
  },
  {
   "cell_type": "code",
   "execution_count": null,
   "id": "4cf9d3c2-9bb1-4fa4-9174-77ac0ea24685",
   "metadata": {},
   "outputs": [],
   "source": [
    "You can create a Pandas DataFrame using multiple Pandas Series by combining them into a dictionary and then converting the dictionary into a DataFrame. Each Series will become a column in the resulting DataFrame, and they should have the same length to align properly. Here's an example:"
   ]
  },
  {
   "cell_type": "code",
   "execution_count": 4,
   "id": "6fba274c-1c7c-4bb5-a139-df94754d0cf3",
   "metadata": {},
   "outputs": [
    {
     "name": "stdout",
     "output_type": "stream",
     "text": [
      "      Name  Age           City\n",
      "0    Alice   25       New York\n",
      "1      Bob   30  San Francisco\n",
      "2  Charlie   35    Los Angeles\n",
      "3    David   28        Chicago\n"
     ]
    }
   ],
   "source": [
    "import pandas as pd\n",
    "\n",
    "# Create multiple Pandas Series\n",
    "names = pd.Series(['Alice', 'Bob', 'Charlie', 'David'])\n",
    "ages = pd.Series([25, 30, 35, 28])\n",
    "cities = pd.Series(['New York', 'San Francisco', 'Los Angeles', 'Chicago'])\n",
    "\n",
    "# Combine the Series into a dictionary\n",
    "data = {'Name': names, 'Age': ages, 'City': cities}\n",
    "\n",
    "# Create a DataFrame from the dictionary\n",
    "df = pd.DataFrame(data)\n",
    "\n",
    "# Print the DataFrame\n",
    "print(df)\n"
   ]
  },
  {
   "cell_type": "code",
   "execution_count": null,
   "id": "5e493b3a-a7fd-454d-84e4-89f60e51b19a",
   "metadata": {},
   "outputs": [],
   "source": []
  }
 ],
 "metadata": {
  "kernelspec": {
   "display_name": "Python 3 (ipykernel)",
   "language": "python",
   "name": "python3"
  },
  "language_info": {
   "codemirror_mode": {
    "name": "ipython",
    "version": 3
   },
   "file_extension": ".py",
   "mimetype": "text/x-python",
   "name": "python",
   "nbconvert_exporter": "python",
   "pygments_lexer": "ipython3",
   "version": "3.10.6"
  }
 },
 "nbformat": 4,
 "nbformat_minor": 5
}
